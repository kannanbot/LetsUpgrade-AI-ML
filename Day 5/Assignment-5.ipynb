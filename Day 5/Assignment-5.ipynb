{
 "cells": [
  {
   "cell_type": "code",
   "execution_count": 21,
   "metadata": {},
   "outputs": [
    {
     "name": "stdout",
     "output_type": "stream",
     "text": [
      "Hello world\n",
      "hello world\n",
      "         heLLo world          \n",
      "1\n",
      "b'heLLo world'\n",
      "False\n",
      "6\n",
      "6\n",
      "False\n",
      "False\n",
      "False\n",
      "False\n",
      "False\n",
      "False\n",
      "False\n",
      "False\n"
     ]
    }
   ],
   "source": [
    "a = \"heLLo world\"\n",
    "\n",
    "f = a.capitalize()\n",
    "f1 = a.casefold()\n",
    "f2 = a.center(30)\n",
    "f3 = a.count(\"world\")\n",
    "f4 = a.encode()\n",
    "f5 = a.endswith(\".\")\n",
    "f6 = a.find(\"world\")\n",
    "f7 = a.index(\"world\")\n",
    "f8 = a.isalnum()\n",
    "f9 = a.isalpha()\n",
    "f10 = a.isdecimal()\n",
    "f11 = a.isdigit()\n",
    "f12 = a.isidentifier()\n",
    "f13 = a.islower()\n",
    "f14 = a.isnumeric()\n",
    "f15 = a.isspace()\n",
    "print (f)\n",
    "print (f1)\n",
    "print(f2)\n",
    "print(f3)\n",
    "print(f4)\n",
    "print(f5)\n",
    "print(f6)\n",
    "print(f7)\n",
    "print(f8)\n",
    "print(f9)\n",
    "print(f10)\n",
    "print(f11)\n",
    "print(f12)\n",
    "print(f13)\n",
    "print(f14)\n",
    "print(f15)\n"
   ]
  },
  {
   "cell_type": "code",
   "execution_count": 24,
   "metadata": {},
   "outputs": [
    {
     "name": "stdout",
     "output_type": "stream",
     "text": [
      "Prime numbers between 2 and 100 are:\n",
      "2 3 5 7 11 13 17 19 23 29 31 37 41 43 47 53 59 61 67 71 73 79 83 89 97 "
     ]
    }
   ],
   "source": [
    "a = 2\n",
    "b = 100\n",
    "\n",
    "print(\"Prime numbers between\", a, \"and\", b, \"are:\")\n",
    "\n",
    "for num in range(a, b + 1):\n",
    "   # all prime numbers are greater than 1\n",
    "   if num > 1:\n",
    "       for i in range(2, num):\n",
    "           if (num % i) == 0:\n",
    "               break\n",
    "       else:\n",
    "           print(num,end=\" \")\n"
   ]
  },
  {
   "cell_type": "code",
   "execution_count": 25,
   "metadata": {},
   "outputs": [
    {
     "name": "stdout",
     "output_type": "stream",
     "text": [
      "Enter a string:malayalam\n",
      "The string is a palindrome\n"
     ]
    }
   ],
   "source": [
    "string=input((\"Enter a string:\"))\n",
    "if(string==string[::-1]):\n",
    "      print(\"The string is a palindrome\")\n",
    "else:\n",
    "      print(\"Not a palindrome\")"
   ]
  },
  {
   "cell_type": "code",
   "execution_count": 27,
   "metadata": {},
   "outputs": [
    {
     "name": "stdout",
     "output_type": "stream",
     "text": [
      "Enter first string:anna\n",
      "Enter second string:nana\n",
      "The strings are anagrams.\n"
     ]
    }
   ],
   "source": [
    "s1=input(\"Enter first string:\")\n",
    "s2=input(\"Enter second string:\")\n",
    "if(sorted(s1)==sorted(s2)):\n",
    "      print(\"The strings are anagrams.\")\n",
    "else:\n",
    "      print(\"The strings aren't anagrams.\")"
   ]
  },
  {
   "cell_type": "code",
   "execution_count": 28,
   "metadata": {},
   "outputs": [
    {
     "name": "stdout",
     "output_type": "stream",
     "text": [
      "hithereiamexsitedtolearnai-mlinletsupgrade\n"
     ]
    }
   ],
   "source": [
    "s = '  HI THERE I AM EXSITED TO LEARN AI-ML IN LETSUPGRADE   '\n",
    "x=s.replace(\" \", \"\")\n",
    "\n",
    "y=x.lower()\n",
    "print(y)"
   ]
  },
  {
   "cell_type": "code",
   "execution_count": null,
   "metadata": {},
   "outputs": [],
   "source": []
  }
 ],
 "metadata": {
  "kernelspec": {
   "display_name": "Python 3",
   "language": "python",
   "name": "python3"
  },
  "language_info": {
   "codemirror_mode": {
    "name": "ipython",
    "version": 3
   },
   "file_extension": ".py",
   "mimetype": "text/x-python",
   "name": "python",
   "nbconvert_exporter": "python",
   "pygments_lexer": "ipython3",
   "version": "3.7.4"
  }
 },
 "nbformat": 4,
 "nbformat_minor": 2
}
