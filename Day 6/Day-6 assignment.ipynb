{
 "cells": [
  {
   "cell_type": "code",
   "execution_count": 22,
   "metadata": {},
   "outputs": [
    {
     "data": {
      "text/plain": [
       "'gmail'"
      ]
     },
     "execution_count": 22,
     "metadata": {},
     "output_type": "execute_result"
    }
   ],
   "source": [
    "line = \"kannan@gmail.com\"\n",
    "str = line.split(\".\")[0]\n",
    "str.split(\"@\")[1]"
   ]
  },
  {
   "cell_type": "code",
   "execution_count": 10,
   "metadata": {},
   "outputs": [
    {
     "name": "stdout",
     "output_type": "stream",
     "text": [
      "Input comma separated sequence of wordsrope,frog,air,dog\n",
      "air,dog,frog,rope\n"
     ]
    }
   ],
   "source": [
    "items = input(\"Input comma separated sequence of words\")\n",
    "words = [word for word in items.split(\",\")]\n",
    "print(\",\".join(sorted(list(set(words)))))"
   ]
  },
  {
   "cell_type": "markdown",
   "metadata": {},
   "source": [
    "\n",
    "Set\n",
    "It is a collection which is unordered and unindexed. It does not allow repeating elements. It is enclosed with in {}.\n",
    "\n",
    "Functions add(): It is used to add an element to a set. clear(): It is used to clear the entier set. copy(): It is used to copy the existing set to another variable. An changes to the original dictionary will not affect the copied set. difference(): It is used to get a set containing only the elements in the first set which are not in the second set. difference_update(): It is used to update the first set with the difference of two sets. discard(): It is used to remove the specified element from the set. intersection(): It is used to get the similar elements from 2 or more sets. intersection_update(): It is used to update the first set with result of intersection function. isdisjoint(): It is used to check two set are disjoint sets. issubset(): It is used to check one set is sub set of another set. issuperset(): It is used to check one set is super set of another set. pop(): It is used to remove a randow element from the set. remove(): It is used to remove a specific element from the set. If the element is not present it will through an error. symmetric_difference(): It is used to get a set containing elements from both the set which are not present in both sets. symmetric_difference_update(): It is used to update the original set with the result of symmetric_difference. union(): It is used to combine two or more sets without repeating of elements. update(): It is used to update a set at the same time it perform the union function also.\n"
   ]
  },
  {
   "cell_type": "code",
   "execution_count": 11,
   "metadata": {},
   "outputs": [
    {
     "name": "stdout",
     "output_type": "stream",
     "text": [
      "Printing set a:\n",
      "{1, 2, 3, 4, 5}\n",
      "\n",
      "\n",
      "Printing set b:\n",
      "{3, 4, 5, 6, 7, 8}\n",
      "\n",
      "\n",
      "Printing the set a with element 6 added to it:\n",
      "{1, 2, 3, 4, 5, 6}\n"
     ]
    }
   ],
   "source": [
    "# Set add() function:\n",
    "a = {1,2,3,4,5}\n",
    "b = {3,4,5,6,7,8}\n",
    "\n",
    "print(\"Printing set a:\")\n",
    "print(a)\n",
    "print(\"\\n\")\n",
    "\n",
    "print(\"Printing set b:\")\n",
    "print(b)\n",
    "print(\"\\n\")\n",
    "\n",
    "print(\"Printing the set a with element 6 added to it:\")\n",
    "a.add(6)\n",
    "print(a)"
   ]
  },
  {
   "cell_type": "code",
   "execution_count": 12,
   "metadata": {},
   "outputs": [
    {
     "name": "stdout",
     "output_type": "stream",
     "text": [
      "printing set c which is copied from set a:\n",
      "{1, 2, 3, 4, 5, 6}\n",
      "\n",
      "\n",
      "Printing set c after it is cleared:\n",
      "set()\n"
     ]
    }
   ],
   "source": [
    "# Set copy() and clear() function:\n",
    "c = a.copy()\n",
    "print(\"printing set c which is copied from set a:\")\n",
    "print(c)\n",
    "print(\"\\n\")\n",
    "\n",
    "c.clear()\n",
    "print(\"Printing set c after it is cleared:\")\n",
    "print(c)"
   ]
  },
  {
   "cell_type": "code",
   "execution_count": 13,
   "metadata": {},
   "outputs": [
    {
     "name": "stdout",
     "output_type": "stream",
     "text": [
      "Printing the set c which is result of difference function:\n",
      "{1, 2}\n"
     ]
    }
   ],
   "source": [
    "# Set difference() function:\n",
    "c = a.difference(b)\n",
    "print(\"Printing the set c which is result of difference function:\")\n",
    "print(c)"
   ]
  },
  {
   "cell_type": "code",
   "execution_count": 14,
   "metadata": {},
   "outputs": [
    {
     "name": "stdout",
     "output_type": "stream",
     "text": [
      "Printing set a the result of difference_update function:\n",
      "{1, 2}\n"
     ]
    }
   ],
   "source": [
    "# Set difference_update() function:\n",
    "print(\"Printing set a the result of difference_update function:\")\n",
    "a.difference_update(b)\n",
    "print(a)"
   ]
  },
  {
   "cell_type": "code",
   "execution_count": 15,
   "metadata": {},
   "outputs": [
    {
     "name": "stdout",
     "output_type": "stream",
     "text": [
      "Printing set a after removing 2 using discard function:\n",
      "{1}\n"
     ]
    }
   ],
   "source": [
    "\n",
    "# Set discard() function:\n",
    "print(\"Printing set a after removing 2 using discard function:\")\n",
    "a.discard(2)\n",
    "print(a)"
   ]
  },
  {
   "cell_type": "code",
   "execution_count": 16,
   "metadata": {},
   "outputs": [
    {
     "name": "stdout",
     "output_type": "stream",
     "text": [
      "Printing set c which is intersection of set a and b:\n",
      "{3, 4, 5}\n"
     ]
    }
   ],
   "source": [
    "# Set intersection() function:\n",
    "a = {1,2,3,4,5}\n",
    "b = {3,4,5,6,7,8}\n",
    "\n",
    "c = a.intersection(b)\n",
    "print(\"Printing set c which is intersection of set a and b:\")\n",
    "print(c)"
   ]
  },
  {
   "cell_type": "code",
   "execution_count": 17,
   "metadata": {},
   "outputs": [
    {
     "name": "stdout",
     "output_type": "stream",
     "text": [
      "Printing set a which is result of intersection_update:\n",
      "{3, 4, 5}\n"
     ]
    }
   ],
   "source": [
    "# Set intersection_update() function:\n",
    "a.intersection_update(b)\n",
    "print(\"Printing set a which is result of intersection_update:\")\n",
    "print(a)"
   ]
  },
  {
   "cell_type": "code",
   "execution_count": 18,
   "metadata": {},
   "outputs": [
    {
     "name": "stdout",
     "output_type": "stream",
     "text": [
      "Printing the result of isdisjoint between a and b:\n",
      "False\n",
      "\n",
      "\n",
      "Printing the result of isdisjoint between a and b with no common value:\n",
      "True\n"
     ]
    }
   ],
   "source": [
    "\n",
    "# Set isdisjoint() function:\n",
    "print(\"Printing the result of isdisjoint between a and b:\")\n",
    "print(a.isdisjoint(b))\n",
    "print(\"\\n\")\n",
    "\n",
    "a = {1,2}\n",
    "b = {3,4}\n",
    "print(\"Printing the result of isdisjoint between a and b with no common value:\")\n",
    "print(a.isdisjoint(b))"
   ]
  },
  {
   "cell_type": "code",
   "execution_count": 21,
   "metadata": {},
   "outputs": [
    {
     "name": "stdout",
     "output_type": "stream",
     "text": [
      "Enter the list with duplictae values: 1 2 3 3 4 4\n",
      "Output without duplicate values: ['1', '2', '3', '4']\n"
     ]
    }
   ],
   "source": [
    "my_lst = input(\"Enter the list with duplictae values: \")\n",
    "\n",
    "new_lst = [x for x in my_lst.split(\" \")]\n",
    "\n",
    "new_lst = list(dict.fromkeys(new_lst))\n",
    "\n",
    "print(\"Output without duplicate values:\", new_lst)"
   ]
  },
  {
   "cell_type": "code",
   "execution_count": null,
   "metadata": {},
   "outputs": [],
   "source": []
  }
 ],
 "metadata": {
  "kernelspec": {
   "display_name": "Python 3",
   "language": "python",
   "name": "python3"
  },
  "language_info": {
   "codemirror_mode": {
    "name": "ipython",
    "version": 3
   },
   "file_extension": ".py",
   "mimetype": "text/x-python",
   "name": "python",
   "nbconvert_exporter": "python",
   "pygments_lexer": "ipython3",
   "version": "3.7.4"
  }
 },
 "nbformat": 4,
 "nbformat_minor": 2
}
