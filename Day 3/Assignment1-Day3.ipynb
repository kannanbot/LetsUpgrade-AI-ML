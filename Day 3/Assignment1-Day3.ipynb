{
 "cells": [
  {
   "cell_type": "code",
   "execution_count": 5,
   "metadata": {
    "scrolled": true
   },
   "outputs": [
    {
     "name": "stdout",
     "output_type": "stream",
     "text": [
      "1.5j\n"
     ]
    }
   ],
   "source": [
    "# Question 1 :\n",
    "a=3.0j\n",
    "b=1.5j\n",
    "c=a-b\n",
    "print(c)"
   ]
  },
  {
   "cell_type": "code",
   "execution_count": 22,
   "metadata": {},
   "outputs": [
    {
     "data": {
      "text/plain": [
       "16"
      ]
     },
     "execution_count": 22,
     "metadata": {},
     "output_type": "execute_result"
    }
   ],
   "source": [
    "# Question 2 :\n",
    "2**4"
   ]
  },
  {
   "cell_type": "code",
   "execution_count": 6,
   "metadata": {},
   "outputs": [
    {
     "name": "stdout",
     "output_type": "stream",
     "text": [
      "value of x after swaping using temp variable= 2  And value of y after swaping using temp variable = 1\n"
     ]
    }
   ],
   "source": [
    "# Question 3 :\n",
    "x=1\n",
    "y=2\n",
    "temp=x\n",
    "x=y\n",
    "y=temp\n",
    "print(\"value of x after swaping using temp variable=\",x,\" And value of y after swaping using temp variable =\",y)"
   ]
  },
  {
   "cell_type": "code",
   "execution_count": 8,
   "metadata": {},
   "outputs": [
    {
     "name": "stdout",
     "output_type": "stream",
     "text": [
      "x= 2 y= 1\n"
     ]
    }
   ],
   "source": [
    "# Question 4 :\n",
    "x=1\n",
    "y=2\n",
    "x,y=y,x\n",
    "\n",
    "print(\"x=\",x,\"y=\",y)"
   ]
  },
  {
   "cell_type": "code",
   "execution_count": 12,
   "metadata": {},
   "outputs": [
    {
     "name": "stdout",
     "output_type": "stream",
     "text": [
      "Temperature in Kelvin ( K ) = 339.056\n",
      "100.0 degree fahrenheit = 37.8 degree celsius\n"
     ]
    }
   ],
   "source": [
    "# Question 5 :\n",
    "def Fahrenheit_to_Kelvin(F):\n",
    "    return 273.5 + ((F - 32.0) * (5.0/9.0))\n",
    "\n",
    "F=150\n",
    "print(\"Temperature in Kelvin ( K ) = {:.3f}\" \n",
    "            .format(Fahrenheit_to_Kelvin( F )))\n",
    "\n",
    "\n",
    "fahrenheit = 100\n",
    "\n",
    "celsius = (fahrenheit - 32) / 1.8\n",
    "print('%0.1f degree fahrenheit = %0.1f degree celsius' %(fahrenheit,celsius))"
   ]
  },
  {
   "cell_type": "code",
   "execution_count": 14,
   "metadata": {},
   "outputs": [
    {
     "name": "stdout",
     "output_type": "stream",
     "text": [
      "<class 'int'>\n",
      "<class 'str'>\n",
      "<class 'tuple'>\n",
      "<class 'complex'>\n"
     ]
    }
   ],
   "source": [
    "# Question 6 :\n",
    "a=1\n",
    "print(type(a))\n",
    "b=\"Hi\"\n",
    "print(type(b))\n",
    "c=('apple','bannana')\n",
    "print(type(c))\n",
    "d=1.54j\n",
    "print(type(d))\n"
   ]
  },
  {
   "cell_type": "code",
   "execution_count": 18,
   "metadata": {},
   "outputs": [
    {
     "name": "stdout",
     "output_type": "stream",
     "text": [
      "<class 'dict'>\n"
     ]
    }
   ],
   "source": [
    "dict ={\n",
    "  \"Name\": \"Eric\",\n",
    "  \"Group\": \"Lethal\",\n",
    "  \"Season\": 12\n",
    "}\n",
    "print(type(dict))"
   ]
  },
  {
   "cell_type": "code",
   "execution_count": 19,
   "metadata": {},
   "outputs": [
    {
     "name": "stdout",
     "output_type": "stream",
     "text": [
      "<class 'list'>\n"
     ]
    }
   ],
   "source": [
    "list = [\"apple\", \"banana\", \"cucumber\"]\n",
    "print(type(list))"
   ]
  },
  {
   "cell_type": "code",
   "execution_count": 20,
   "metadata": {},
   "outputs": [
    {
     "name": "stdout",
     "output_type": "stream",
     "text": [
      "<class 'set'>\n"
     ]
    }
   ],
   "source": [
    "set = {\"apple\", \"banana\", \"cherry\"}\n",
    "print(type(set))"
   ]
  },
  {
   "cell_type": "code",
   "execution_count": 21,
   "metadata": {},
   "outputs": [
    {
     "name": "stdout",
     "output_type": "stream",
     "text": [
      "<class 'bool'>\n"
     ]
    }
   ],
   "source": [
    "print(type(10 > 9))"
   ]
  },
  {
   "cell_type": "markdown",
   "metadata": {},
   "source": [
    "#### Question 7 :\n",
    "\n",
    "Create day 3 folder to save assignments init\n",
    "Create Github account if not\n",
    "Create a new repositoryname LetsUpgrade AI-ML\n",
    "Description:Assignments\n",
    "it should be public\n",
    "create repository\n",
    "Upload an exsisting file\n",
    "Drag the folder day 3 here\n",
    "commit changes with out changing anything\n",
    "Goto home folder there u will find the repository LetsUpgrade-AI-ML\n",
    "Goto day 3 folder u'll find the .ipynb file use that URL link and paste it in letsupgrade assignment form"
   ]
  },
  {
   "cell_type": "code",
   "execution_count": null,
   "metadata": {},
   "outputs": [],
   "source": []
  }
 ],
 "metadata": {
  "kernelspec": {
   "display_name": "Python 3",
   "language": "python",
   "name": "python3"
  },
  "language_info": {
   "codemirror_mode": {
    "name": "ipython",
    "version": 3
   },
   "file_extension": ".py",
   "mimetype": "text/x-python",
   "name": "python",
   "nbconvert_exporter": "python",
   "pygments_lexer": "ipython3",
   "version": "3.7.4"
  }
 },
 "nbformat": 4,
 "nbformat_minor": 2
}
